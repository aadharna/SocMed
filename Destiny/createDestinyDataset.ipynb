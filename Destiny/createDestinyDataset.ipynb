{
 "cells": [
  {
   "cell_type": "code",
   "execution_count": null,
   "metadata": {},
   "outputs": [],
   "source": [
    "import pydest"
   ]
  },
  {
   "cell_type": "code",
   "execution_count": null,
   "metadata": {},
   "outputs": [],
   "source": [
    "from pprint import pprint"
   ]
  },
  {
   "cell_type": "code",
   "execution_count": null,
   "metadata": {},
   "outputs": [],
   "source": [
    "destiny = pydest.Pydest(\"9a46d60a11174668977a76a28b729dd7\")"
   ]
  },
  {
   "cell_type": "code",
   "execution_count": null,
   "metadata": {},
   "outputs": [],
   "source": [
    "import time"
   ]
  },
  {
   "cell_type": "code",
   "execution_count": null,
   "metadata": {},
   "outputs": [],
   "source": [
    "start = time.time()\n",
    "json = await destiny.api.search_destiny_player(-1, 'aadharna')\n",
    "# await destiny.close()\n",
    "end = time.time()\n",
    "print(f\"{end - start} seconds to get find my player\")"
   ]
  },
  {
   "cell_type": "code",
   "execution_count": null,
   "metadata": {},
   "outputs": [],
   "source": [
    "pprint(json)"
   ]
  },
  {
   "cell_type": "code",
   "execution_count": null,
   "metadata": {},
   "outputs": [],
   "source": [
    "bungoId = await destiny.api.get_membership_data_by_id(4611686018467533572, membership_type=3)"
   ]
  },
  {
   "cell_type": "code",
   "execution_count": null,
   "metadata": {},
   "outputs": [],
   "source": [
    "pprint(bungoId)"
   ]
  },
  {
   "cell_type": "code",
   "execution_count": null,
   "metadata": {},
   "outputs": [],
   "source": [
    "start = time.time()\n",
    "aaronStats = await destiny.api.get_profile(3, 4611686018467533572, components=[100])\n",
    "# await destiny.close()\n",
    "end = time.time()\n",
    "print(f\"{end - start} seconds to get my player profile\")"
   ]
  },
  {
   "cell_type": "code",
   "execution_count": null,
   "metadata": {
    "scrolled": true
   },
   "outputs": [],
   "source": [
    "pprint(aaronStats)"
   ]
  },
  {
   "cell_type": "code",
   "execution_count": null,
   "metadata": {},
   "outputs": [],
   "source": []
  },
  {
   "cell_type": "code",
   "execution_count": null,
   "metadata": {},
   "outputs": [],
   "source": [
    "from collections import defaultdict"
   ]
  },
  {
   "cell_type": "code",
   "execution_count": null,
   "metadata": {},
   "outputs": [],
   "source": [
    "async def getLifetimeStats(playerId, charId, mode):\n",
    "    stats = await destiny.api.get_historical_stats(-1, \n",
    "                                                   playerId, \n",
    "                                                   character_id=charId,\n",
    "                                                   modes=[mode])\n",
    "    \n",
    "    gameMode = 'pvpCompetitive' if mode == 69 else 'survival'\n",
    "    try:\n",
    "        foo = stats['Response'][gameMode]['allTime']\n",
    "    except KeyError as e:\n",
    "        print(stats)\n",
    "        # import pdb; pdb.set_trace()\n",
    "        raise ValueError(\"died to key error\")\n",
    "    life = {}\n",
    "    for k, v in foo.items():\n",
    "        life[v['statId']] = v['basic']['value'] \n",
    "        \n",
    "    return life"
   ]
  },
  {
   "cell_type": "code",
   "execution_count": null,
   "metadata": {},
   "outputs": [],
   "source": [
    "import json"
   ]
  },
  {
   "cell_type": "code",
   "execution_count": null,
   "metadata": {},
   "outputs": [],
   "source": [
    "from argparse import Namespace"
   ]
  },
  {
   "cell_type": "code",
   "execution_count": null,
   "metadata": {},
   "outputs": [],
   "source": [
    "import time"
   ]
  },
  {
   "cell_type": "code",
   "execution_count": null,
   "metadata": {},
   "outputs": [],
   "source": [
    "from tqdm import tqdm"
   ]
  },
  {
   "cell_type": "code",
   "execution_count": null,
   "metadata": {},
   "outputs": [],
   "source": [
    "from datetime import datetime\n",
    "referenceDate = datetime.strptime('2020-11-10T00:00:00Z', \"%Y-%m-%dT%H:%M:%SZ\")"
   ]
  },
  {
   "cell_type": "code",
   "execution_count": null,
   "metadata": {},
   "outputs": [],
   "source": [
    "names = defaultdict(lambda: {'name':None, 'charId':None})\n",
    "names[4611686018467284386]['name'] = 'datto'\n",
    "names[4611686018467284386]['charId'] = 2305843009300009440\n",
    "\n",
    "\n",
    "player_match_lists = defaultdict(list)\n",
    "\n",
    "matches = defaultdict(lambda: {'a':{}, 'b':{}})\n",
    "\n",
    "lifetimeStats = {}\n",
    "lifetimeStats[4611686018467284386] = await getLifetimeStats(4611686018467284386, 2305843009300009440, 69)"
   ]
  },
  {
   "cell_type": "code",
   "execution_count": null,
   "metadata": {},
   "outputs": [],
   "source": [
    "weapons = {'Auto Rifle':'autoRifle',\n",
    " 'Combat Bow':\"bow\",\n",
    " 'Fusion Rifle':'fusionRifle',\n",
    " 'Grenade Launcher':'grenadeLauncher',\n",
    " 'Hand Cannon':'handCannon',\n",
    " 'Linear Fusion Rifle':'linearFusionRifle',\n",
    " 'Machine Gun':'machineGun',\n",
    " 'Pulse Rifle':'pulseRifle',\n",
    " 'Rocket Launcher':'rocketLauncher',\n",
    " 'Scout Rifle':'scoutRifle',\n",
    " 'Shotgun':'shotgun',\n",
    " 'Sidearm':'sidearm',\n",
    " 'Sniper Rifle':'sniperRifle',\n",
    " 'Submachine Gun':'subMachineGun',\n",
    " 'Sword':'sword',\n",
    " 'Trace Rifle':'traceRifle'}"
   ]
  },
  {
   "cell_type": "code",
   "execution_count": null,
   "metadata": {},
   "outputs": [],
   "source": []
  },
  {
   "cell_type": "code",
   "execution_count": null,
   "metadata": {},
   "outputs": [],
   "source": [
    "async def getMatches(playerId, charId, count, mode):\n",
    "    raw = await destiny.api.get_activity_history(3, \n",
    "                                                 playerId, \n",
    "                                                 character_id=charId,\n",
    "                                                 count=count,\n",
    "                                                 mode=mode)\n",
    "    #from pprint import pprint\n",
    "    # pprint(raw)\n",
    "    try:\n",
    "        foo = raw['Response']['activities']\n",
    "    except KeyError as e:\n",
    "        return []\n",
    "    # pprint(foo)\n",
    "    matchIds = []\n",
    "    for v in foo:\n",
    "        match = int(v['activityDetails']['instanceId'])\n",
    "        if match in matches:\n",
    "            continue\n",
    "        matchIds.append(match)\n",
    "    \n",
    "    return matchIds\n",
    "\n",
    "async def parseMatches(matchIds, mode, beyondLight=False):\n",
    "    \n",
    "    for _id in tqdm(matchIds):\n",
    "        time.sleep(0.05)\n",
    "        try:\n",
    "            pgcr = await destiny.api.get_post_game_carnage_report(_id)\n",
    "        except NameError as e:\n",
    "            time.sleep(1)\n",
    "            continue\n",
    "        \n",
    "        date = datetime.strptime(pgcr['Response']['period'], \"%Y-%m-%dT%H:%M:%SZ\")\n",
    "        if beyondLight and date < referenceDate:\n",
    "            continue\n",
    "            \n",
    "        try:\n",
    "            for _player in pgcr['Response']['entries']:\n",
    "                weaponIds = [weaponInfo['referenceId'] for weaponInfo in _player['extended']['weapons']]\n",
    "        except KeyError as e:\n",
    "            continue\n",
    "        \n",
    "        \n",
    "        for player in pgcr['Response']['entries']:\n",
    "            playerId = int(player['player']['destinyUserInfo']['membershipId'])\n",
    "            playerName = player['player']['destinyUserInfo']['displayName']\n",
    "            charId = player['characterId']\n",
    "            \n",
    "            player_match_lists[playerId].extend([_id])\n",
    "            if playerId not in names:\n",
    "                names[playerId]['name'] = playerName\n",
    "                names[playerId]['charId'] = charId\n",
    "\n",
    "            baz = {}\n",
    "            values = {k:v['basic']['value'] for k, v  in player['values'].items()}\n",
    "            extendedStats = {k:v['basic']['value'] for k, v  in player['extended']['values'].items()}\n",
    "            weaponIds = [weaponInfo['referenceId'] for weaponInfo in player['extended']['weapons']]\n",
    "            wKills = [weaponInfo['values']['uniqueWeaponKills']['basic']['value'] \n",
    "                     for weaponInfo in player['extended']['weapons']]\n",
    "            wTypes = []\n",
    "            for w in weaponIds:\n",
    "                wInfo = await destiny.decode_hash(w, 'DestinyInventoryItemDefinition')\n",
    "                wType = wInfo['itemTypeDisplayName']\n",
    "                wTypes.append(weapons[wType])\n",
    "            \n",
    "            flattenedWeaponInfo = {'numWeaponsUsed':len(player['extended']['weapons']),}\n",
    "            for i, w in enumerate(wTypes):\n",
    "                flattenedWeaponInfo[w + 'kills'] = wKills[i]\n",
    "                flattenedWeaponInfo[w + 'Id'] = weaponIds[i]\n",
    "                \n",
    "            baz.update(flattenedWeaponInfo)\n",
    "            baz.update(extendedStats)\n",
    "            baz.update(values)\n",
    "            \n",
    "            a = 17 if mode == 69 else 18\n",
    "            #  mode 37 has teams of 18 and 19\n",
    "            #  mode 69 has teams of 17 and 18\n",
    "            \n",
    "            if baz['team'] == a:\n",
    "                teamKey = 'b'\n",
    "            else:\n",
    "                teamKey = 'a'\n",
    "            \n",
    "            matches[_id][teamKey][playerId] = baz\n",
    "            matches[_id][teamKey][playerId]['date'] = date\n",
    "            \n",
    "            if playerId not in lifetimeStats:\n",
    "                lifetimeStats[playerId] = await getLifetimeStats(playerId, charId, mode)\n",
    "            \n",
    "    return"
   ]
  },
  {
   "cell_type": "code",
   "execution_count": null,
   "metadata": {},
   "outputs": [],
   "source": []
  },
  {
   "cell_type": "code",
   "execution_count": null,
   "metadata": {
    "scrolled": true
   },
   "outputs": [],
   "source": [
    "# datto: 4611686018467284386, 2305843009300009440\n",
    "# aaron: 4611686018467533572, 2305843009300337881\n",
    "matchIds = await getMatches(4611686018467533572, 2305843009300337881, 5, mode=37)\n",
    "# 84 = ToO\n",
    "# 69 = PvP Comp playlist"
   ]
  },
  {
   "cell_type": "code",
   "execution_count": null,
   "metadata": {},
   "outputs": [],
   "source": [
    "matchIds"
   ]
  },
  {
   "cell_type": "code",
   "execution_count": null,
   "metadata": {},
   "outputs": [],
   "source": [
    "from copy import deepcopy"
   ]
  },
  {
   "cell_type": "code",
   "execution_count": null,
   "metadata": {
    "scrolled": false
   },
   "outputs": [],
   "source": [
    "await parseMatches(matchIds, 37, beyondLight=True)"
   ]
  },
  {
   "cell_type": "code",
   "execution_count": null,
   "metadata": {},
   "outputs": [],
   "source": [
    "len(lifetimeStats)"
   ]
  },
  {
   "cell_type": "code",
   "execution_count": null,
   "metadata": {},
   "outputs": [],
   "source": [
    "matches"
   ]
  },
  {
   "cell_type": "code",
   "execution_count": null,
   "metadata": {},
   "outputs": [],
   "source": [
    "len(player_match_lists)"
   ]
  },
  {
   "cell_type": "code",
   "execution_count": null,
   "metadata": {},
   "outputs": [],
   "source": [
    "len(matches)"
   ]
  },
  {
   "cell_type": "code",
   "execution_count": null,
   "metadata": {},
   "outputs": [],
   "source": [
    "len(names)"
   ]
  },
  {
   "cell_type": "code",
   "execution_count": null,
   "metadata": {},
   "outputs": [],
   "source": [
    "sample0 = deepcopy(names)"
   ]
  },
  {
   "cell_type": "code",
   "execution_count": null,
   "metadata": {},
   "outputs": [],
   "source": [
    "newnewNames = {}\n",
    "for k, v in names.items():\n",
    "    if k in sample1 or k in sample0:\n",
    "        continue\n",
    "    newnewNames[k] = v\n",
    "sample2 = deepcopy(names)"
   ]
  },
  {
   "cell_type": "code",
   "execution_count": null,
   "metadata": {},
   "outputs": [],
   "source": [
    "print(len(newnewNames), len(newNames), len(names), len(sample0), len(sample1))"
   ]
  },
  {
   "cell_type": "code",
   "execution_count": null,
   "metadata": {},
   "outputs": [],
   "source": [
    "import numpy as np"
   ]
  },
  {
   "cell_type": "code",
   "execution_count": null,
   "metadata": {
    "scrolled": false
   },
   "outputs": [],
   "source": [
    "initialBatch = deepcopy(newnewNames)\n",
    "\n",
    "for k, v in initialBatch.items():\n",
    "    if np.random.rand() > 0.1:\n",
    "        continue\n",
    "    if len(player_match_lists[k]) >= 50:\n",
    "        continue\n",
    "    matchIds = await getMatches(k, v['charId'], 50, mode=37)\n",
    "    try:\n",
    "        await parseMatches(matchIds, 37, beyondLight=True)\n",
    "    except:\n",
    "        continue"
   ]
  },
  {
   "cell_type": "code",
   "execution_count": null,
   "metadata": {},
   "outputs": [],
   "source": []
  },
  {
   "cell_type": "code",
   "execution_count": null,
   "metadata": {},
   "outputs": [],
   "source": [
    "len(matches)"
   ]
  },
  {
   "cell_type": "code",
   "execution_count": null,
   "metadata": {},
   "outputs": [],
   "source": [
    "len(player_match_lists)"
   ]
  },
  {
   "cell_type": "code",
   "execution_count": null,
   "metadata": {},
   "outputs": [],
   "source": [
    "import pickle\n",
    "import os"
   ]
  },
  {
   "cell_type": "code",
   "execution_count": null,
   "metadata": {},
   "outputs": [],
   "source": []
  },
  {
   "cell_type": "code",
   "execution_count": null,
   "metadata": {},
   "outputs": [],
   "source": [
    "def save_obj(obj, folder, name):\n",
    "    path = os.path.join(folder, name) + '.pkl'\n",
    "    if os.path.exists(path):\n",
    "        os.remove(path)\n",
    "    with open(path, 'wb+') as f:\n",
    "        pickle.dump(obj, f, pickle.HIGHEST_PROTOCOL)\n",
    "        \n",
    "        \n",
    "def load_obj(folder, name):\n",
    "    path = os.path.join(folder, name)\n",
    "    try:\n",
    "        with open(path, 'rb') as f:\n",
    "            f = pickle.load(f)\n",
    "    except EOFError:\n",
    "        f = {\"resend\":True}\n",
    "    return f"
   ]
  },
  {
   "cell_type": "code",
   "execution_count": null,
   "metadata": {},
   "outputs": [],
   "source": [
    "save_obj(dict(lifetimeStats), '.', 'lifetimeStats.BL')"
   ]
  },
  {
   "cell_type": "code",
   "execution_count": null,
   "metadata": {},
   "outputs": [],
   "source": [
    "save_obj(dict(matches), '.', 'matches.BL')"
   ]
  },
  {
   "cell_type": "code",
   "execution_count": null,
   "metadata": {},
   "outputs": [],
   "source": [
    "save_obj(dict(names), '.', 'playerIdMap.BL')"
   ]
  },
  {
   "cell_type": "code",
   "execution_count": null,
   "metadata": {},
   "outputs": [],
   "source": [
    "save_obj(dict(player_match_lists), '.', 'playerMatchLists.BL')"
   ]
  },
  {
   "cell_type": "code",
   "execution_count": null,
   "metadata": {},
   "outputs": [],
   "source": []
  },
  {
   "cell_type": "code",
   "execution_count": null,
   "metadata": {},
   "outputs": [],
   "source": []
  },
  {
   "cell_type": "code",
   "execution_count": null,
   "metadata": {},
   "outputs": [],
   "source": [
    "mode = await destiny.decode_hash(1161276682, 'DestinyInventoryItemDefinition')"
   ]
  },
  {
   "cell_type": "code",
   "execution_count": null,
   "metadata": {
    "scrolled": false
   },
   "outputs": [],
   "source": [
    "pprint(mode)"
   ]
  },
  {
   "cell_type": "code",
   "execution_count": null,
   "metadata": {},
   "outputs": [],
   "source": []
  },
  {
   "cell_type": "code",
   "execution_count": null,
   "metadata": {},
   "outputs": [],
   "source": []
  }
 ],
 "metadata": {
  "kernelspec": {
   "display_name": "Python 3",
   "language": "python",
   "name": "python3"
  },
  "language_info": {
   "codemirror_mode": {
    "name": "ipython",
    "version": 3
   },
   "file_extension": ".py",
   "mimetype": "text/x-python",
   "name": "python",
   "nbconvert_exporter": "python",
   "pygments_lexer": "ipython3",
   "version": "3.7.9"
  }
 },
 "nbformat": 4,
 "nbformat_minor": 4
}
